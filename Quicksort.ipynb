{
 "cells": [
  {
   "cell_type": "code",
   "execution_count": 88,
   "metadata": {},
   "outputs": [],
   "source": [
    "def quickSort(nums, left, right):\n",
    "        pivot_index = right\n",
    "        pivot_value = nums[pivot_index]\n",
    "        \n",
    "        suggested_pivot_index = partition(nums, left, right-1, pivot_value)\n",
    "\n",
    "        if suggested_pivot_index is None:\n",
    "            return\n",
    "        \n",
    "        nums[suggested_pivot_index], nums[pivot_index] = nums[pivot_index], nums[suggested_pivot_index]\n",
    "        \n",
    "        pivot_index = suggested_pivot_index\n",
    "        \n",
    "        quickSort(nums, pivot_index+1, right)\n",
    "\n",
    "        quickSort(nums, left, pivot_index-1)\n",
    "        \n",
    "def partition(nums, left, right, pivot_value):\n",
    "        \n",
    "        if right < left:\n",
    "            return\n",
    "        \n",
    "        i = left - 1\n",
    "        j = left\n",
    "        \n",
    "        while j <= right:\n",
    "            if nums[j] < pivot_value:  \n",
    "                i += 1\n",
    "                nums[i], nums[j] = nums[j], nums[i]\n",
    "                \n",
    "            j += 1\n",
    "        return i + 1"
   ]
  },
  {
   "cell_type": "code",
   "execution_count": 91,
   "metadata": {},
   "outputs": [
    {
     "name": "stdout",
     "output_type": "stream",
     "text": [
      "[2, 3, 6, 34]\n"
     ]
    }
   ],
   "source": [
    "l = [3, 2, 6, 34]\n",
    "quickSort(l, 0, 3)\n",
    "print(l)"
   ]
  },
  {
   "cell_type": "code",
   "execution_count": null,
   "metadata": {},
   "outputs": [],
   "source": []
  }
 ],
 "metadata": {
  "kernelspec": {
   "display_name": "Python 3",
   "language": "python",
   "name": "python3"
  },
  "language_info": {
   "codemirror_mode": {
    "name": "ipython",
    "version": 3
   },
   "file_extension": ".py",
   "mimetype": "text/x-python",
   "name": "python",
   "nbconvert_exporter": "python",
   "pygments_lexer": "ipython3",
   "version": "3.7.4"
  }
 },
 "nbformat": 4,
 "nbformat_minor": 2
}
